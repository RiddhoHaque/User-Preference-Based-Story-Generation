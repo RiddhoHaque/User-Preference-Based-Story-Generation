{
 "cells": [
  {
   "cell_type": "code",
   "execution_count": 1,
   "id": "widespread-increase",
   "metadata": {},
   "outputs": [],
   "source": [
    "import os\n",
    "import pandas as pd"
   ]
  },
  {
   "cell_type": "code",
   "execution_count": 2,
   "id": "concrete-providence",
   "metadata": {},
   "outputs": [],
   "source": [
    "directory = 'Data'\n",
    "context_to_option_list = []\n",
    "selected_option_to_passage_list = []\n",
    "\n",
    "\n",
    "def get_tagless_string(passage):\n",
    "    tag_on = False\n",
    "    return_string = ''\n",
    "    for character in passage:\n",
    "        if character == '<':\n",
    "            tag_on = True\n",
    "        elif character == '>':\n",
    "            tag_on = False\n",
    "        \n",
    "        elif tag_on==False:\n",
    "            return_string = return_string + character\n",
    "    \n",
    "    return return_string\n",
    "\n",
    "for filename in os.listdir(directory):\n",
    "    f = os.path.join(directory, filename)\n",
    "    df = pd.read_csv(f)\n",
    "    for iter, row in df.iterrows():\n",
    "        \n",
    "        context_to_option_dict = dict()\n",
    "        selected_option_to_passage_dict_1 = dict()\n",
    "        selected_option_to_passage_dict_2 = dict()\n",
    "        \n",
    "        context_to_option_dict['genre']=row['genre']\n",
    "        selected_option_to_passage_dict_1['genre']=row['genre']\n",
    "        selected_option_to_passage_dict_2['genre']=row['genre']\n",
    "        \n",
    "        context_to_option_dict['X'] = row['Context']\n",
    "        selected_option_to_passage_dict_1['X']=row['Prompt0']\n",
    "        selected_option_to_passage_dict_2['X']=row['Prompt1']\n",
    "        \n",
    "        \n",
    "        context_to_option_dict['Y'] = '<SOS>' + get_tagless_string(row['Option0']) + '<cls>' + get_tagless_string(row['Option1']) + '<EOS>'\n",
    "        selected_option_to_passage_dict_1['Y'] = row['Passage0']\n",
    "        selected_option_to_passage_dict_2['Y'] = row['Passage1']\n",
    "        \n",
    "        context_to_option_list.append(context_to_option_dict)\n",
    "        selected_option_to_passage_list.append(selected_option_to_passage_dict_1)\n",
    "        selected_option_to_passage_list.append(selected_option_to_passage_dict_2)\n",
    "        "
   ]
  },
  {
   "cell_type": "code",
   "execution_count": 3,
   "id": "upper-bible",
   "metadata": {},
   "outputs": [],
   "source": [
    "context_to_option_list_df = pd.DataFrame(context_to_option_list)\n",
    "selected_option_to_passage_df = pd.DataFrame(selected_option_to_passage_list)\n",
    "\n",
    "context_to_option_list_df.to_csv('Context_to_Option.csv', index = False)\n",
    "selected_option_to_passage_df.to_csv('Context_Plus_Option_to_Passage.csv', index = False)\n"
   ]
  },
  {
   "cell_type": "code",
   "execution_count": null,
   "id": "looking-sustainability",
   "metadata": {},
   "outputs": [],
   "source": []
  }
 ],
 "metadata": {
  "kernelspec": {
   "display_name": "Python 3",
   "language": "python",
   "name": "python3"
  },
  "language_info": {
   "codemirror_mode": {
    "name": "ipython",
    "version": 3
   },
   "file_extension": ".py",
   "mimetype": "text/x-python",
   "name": "python",
   "nbconvert_exporter": "python",
   "pygments_lexer": "ipython3",
   "version": "3.9.12"
  }
 },
 "nbformat": 4,
 "nbformat_minor": 5
}
